{
 "cells": [
  {
   "cell_type": "markdown",
   "id": "123456",
   "metadata": {},
   "source": [
    "<div style=\"text-align:left;font-size:2em\"><span style=\"font-weight:bolder;font-size:1.25em\">SP2273 | Learning Portfolio</span><br><br><span style=\"font-weight:bold;color:darkred\">Fundamentals (Nice)</span></div>"
   ]
  },
  {
   "cell_type": "markdown",
   "id": "2abc14be",
   "metadata": {},
   "source": [
    "# 1 If if is not enough"
   ]
  },
  {
   "cell_type": "code",
   "execution_count": 1,
   "id": "223561e0",
   "metadata": {},
   "outputs": [
    {
     "name": "stdout",
     "output_type": "stream",
     "text": [
      "Hello Hero | Batman!\n"
     ]
    }
   ],
   "source": [
    "name = 'Batman'\n",
    "\n",
    "match name:\n",
    "    case 'Batman':\n",
    "        print('Hello Hero | Batman!')\n",
    "    case 'Robin':\n",
    "        print('Hello Sidekick | Robin!')\n",
    "    case _:\n",
    "        print('Hello World!')"
   ]
  },
  {
   "cell_type": "markdown",
   "id": "99ff834f",
   "metadata": {},
   "source": [
    "# 2 Ternary operators or Conditional Statements"
   ]
  },
  {
   "cell_type": "code",
   "execution_count": 6,
   "id": "a9139109",
   "metadata": {},
   "outputs": [
    {
     "ename": "NameError",
     "evalue": "name 'nationality' is not defined",
     "output_type": "error",
     "traceback": [
      "\u001b[1;31m---------------------------------------------------------------------------\u001b[0m",
      "\u001b[1;31mNameError\u001b[0m                                 Traceback (most recent call last)",
      "Cell \u001b[1;32mIn[6], line 1\u001b[0m\n\u001b[1;32m----> 1\u001b[0m greeting \u001b[38;5;241m=\u001b[39m \u001b[38;5;124m\"\u001b[39m\u001b[38;5;124mBonjour!\u001b[39m\u001b[38;5;124m\"\u001b[39m \u001b[38;5;28;01mif\u001b[39;00m \u001b[43mnationality\u001b[49m \u001b[38;5;241m==\u001b[39m \u001b[38;5;124m'\u001b[39m\u001b[38;5;124mFrench\u001b[39m\u001b[38;5;124m'\u001b[39m \u001b[38;5;28;01melse\u001b[39;00m \u001b[38;5;124m\"\u001b[39m\u001b[38;5;124mHello!\u001b[39m\u001b[38;5;124m\"\u001b[39m \u001b[38;5;66;03m# no indentations\u001b[39;00m\n",
      "\u001b[1;31mNameError\u001b[0m: name 'nationality' is not defined"
     ]
    }
   ],
   "source": [
    "greeting = \"Bonjour!\" if nationality == 'French' else \"Hello!\" # no indentations"
   ]
  },
  {
   "cell_type": "code",
   "execution_count": 3,
   "id": "0f666c0b",
   "metadata": {},
   "outputs": [
    {
     "ename": "NameError",
     "evalue": "name 'nationality' is not defined",
     "output_type": "error",
     "traceback": [
      "\u001b[1;31m---------------------------------------------------------------------------\u001b[0m",
      "\u001b[1;31mNameError\u001b[0m                                 Traceback (most recent call last)",
      "Cell \u001b[1;32mIn[3], line 1\u001b[0m\n\u001b[1;32m----> 1\u001b[0m (\u001b[38;5;124m\"\u001b[39m\u001b[38;5;124mBonjour!\u001b[39m\u001b[38;5;124m\"\u001b[39m, \u001b[38;5;124m\"\u001b[39m\u001b[38;5;124mHello!\u001b[39m\u001b[38;5;124m\"\u001b[39m)[\u001b[43mnationality\u001b[49m \u001b[38;5;241m==\u001b[39m \u001b[38;5;124m'\u001b[39m\u001b[38;5;124mFrench\u001b[39m\u001b[38;5;124m'\u001b[39m]\n",
      "\u001b[1;31mNameError\u001b[0m: name 'nationality' is not defined"
     ]
    }
   ],
   "source": [
    "(\"Bonjour!\", \"Hello!\")[nationality == 'French']"
   ]
  },
  {
   "cell_type": "code",
   "execution_count": 5,
   "id": "f1e27822",
   "metadata": {},
   "outputs": [],
   "source": [
    "text = None\n",
    "message = text or \"No message!\""
   ]
  },
  {
   "cell_type": "markdown",
   "id": "c5d022a2",
   "metadata": {},
   "source": [
    "# 3 Swapping values"
   ]
  },
  {
   "cell_type": "code",
   "execution_count": 7,
   "id": "9dab71ae",
   "metadata": {},
   "outputs": [
    {
     "name": "stdout",
     "output_type": "stream",
     "text": [
      "2 1\n"
     ]
    }
   ],
   "source": [
    "a, b = 1, 2\n",
    "a, b = b, a\n",
    "print(a, b)"
   ]
  },
  {
   "cell_type": "markdown",
   "id": "763f43ac",
   "metadata": {},
   "source": [
    "# 4 There are more types"
   ]
  },
  {
   "cell_type": "code",
   "execution_count": 9,
   "id": "502233ec",
   "metadata": {},
   "outputs": [
    {
     "ename": "AttributeError",
     "evalue": "module 'numpy' has no attribute 'float128'",
     "output_type": "error",
     "traceback": [
      "\u001b[1;31m---------------------------------------------------------------------------\u001b[0m",
      "\u001b[1;31mAttributeError\u001b[0m                            Traceback (most recent call last)",
      "Cell \u001b[1;32mIn[9], line 7\u001b[0m\n\u001b[0;32m      1\u001b[0m \u001b[38;5;28;01mimport\u001b[39;00m \u001b[38;5;21;01mnumpy\u001b[39;00m \u001b[38;5;28;01mas\u001b[39;00m \u001b[38;5;21;01mnp\u001b[39;00m\n\u001b[0;32m      2\u001b[0m my_types \u001b[38;5;241m=\u001b[39m [\n\u001b[0;32m      3\u001b[0m     \u001b[38;5;28mfloat\u001b[39m,       \u001b[38;5;66;03m# Default for core Python on my machine\u001b[39;00m\n\u001b[0;32m      4\u001b[0m     np\u001b[38;5;241m.\u001b[39mfloat16,\n\u001b[0;32m      5\u001b[0m     np\u001b[38;5;241m.\u001b[39mfloat32,\n\u001b[0;32m      6\u001b[0m     np\u001b[38;5;241m.\u001b[39mfloat64,\n\u001b[1;32m----> 7\u001b[0m     \u001b[43mnp\u001b[49m\u001b[38;5;241;43m.\u001b[39;49m\u001b[43mfloat128\u001b[49m\n\u001b[0;32m      8\u001b[0m ]\n\u001b[0;32m     10\u001b[0m \u001b[38;5;28;01mfor\u001b[39;00m my_type \u001b[38;5;129;01min\u001b[39;00m my_types:\n\u001b[0;32m     11\u001b[0m     \u001b[38;5;28mprint\u001b[39m(\u001b[38;5;124mf\u001b[39m\u001b[38;5;124m'\u001b[39m\u001b[38;5;132;01m{\u001b[39;00mmy_type\u001b[38;5;241m.\u001b[39m\u001b[38;5;18m__name__\u001b[39m\u001b[38;5;132;01m:\u001b[39;00m\u001b[38;5;124m<15s\u001b[39m\u001b[38;5;132;01m}\u001b[39;00m\u001b[38;5;124m:\u001b[39m\u001b[38;5;124m'\u001b[39m, np\u001b[38;5;241m.\u001b[39mfinfo(my_type)\u001b[38;5;241m.\u001b[39meps)\n",
      "File \u001b[1;32m~\\miniconda3\\Lib\\site-packages\\numpy\\__init__.py:333\u001b[0m, in \u001b[0;36m__getattr__\u001b[1;34m(attr)\u001b[0m\n\u001b[0;32m    330\u001b[0m     \u001b[38;5;124m\"\u001b[39m\u001b[38;5;124mRemoved in NumPy 1.25.0\u001b[39m\u001b[38;5;124m\"\u001b[39m\n\u001b[0;32m    331\u001b[0m     \u001b[38;5;28;01mraise\u001b[39;00m \u001b[38;5;167;01mRuntimeError\u001b[39;00m(\u001b[38;5;124m\"\u001b[39m\u001b[38;5;124mTester was removed in NumPy 1.25.\u001b[39m\u001b[38;5;124m\"\u001b[39m)\n\u001b[1;32m--> 333\u001b[0m \u001b[38;5;28;01mraise\u001b[39;00m \u001b[38;5;167;01mAttributeError\u001b[39;00m(\u001b[38;5;124m\"\u001b[39m\u001b[38;5;124mmodule \u001b[39m\u001b[38;5;132;01m{!r}\u001b[39;00m\u001b[38;5;124m has no attribute \u001b[39m\u001b[38;5;124m\"\u001b[39m\n\u001b[0;32m    334\u001b[0m                      \u001b[38;5;124m\"\u001b[39m\u001b[38;5;132;01m{!r}\u001b[39;00m\u001b[38;5;124m\"\u001b[39m\u001b[38;5;241m.\u001b[39mformat(\u001b[38;5;18m__name__\u001b[39m, attr))\n",
      "\u001b[1;31mAttributeError\u001b[0m: module 'numpy' has no attribute 'float128'"
     ]
    }
   ],
   "source": [
    "import numpy as np\n",
    "my_types = [\n",
    "    float,       # Default for core Python on my machine\n",
    "    np.float16,\n",
    "    np.float32,\n",
    "    np.float64,\n",
    "    np.float128\n",
    "]\n",
    "\n",
    "for my_type in my_types:\n",
    "    print(f'{my_type.__name__:<15s}:', np.finfo(my_type).eps)"
   ]
  },
  {
   "cell_type": "markdown",
   "id": "625b0d91",
   "metadata": {},
   "source": [
    "# 5 Operator precedance (important)"
   ]
  },
  {
   "cell_type": "markdown",
   "id": "97e90ff9",
   "metadata": {},
   "source": [
    "| Description                         |                     Operator                     |\n",
    "|-------------------------------------|:------------------------------------------------:|\n",
    "| Parentheses(grouping)               |                        ()                        |\n",
    "| Function call                       |                    f(args...)                    |\n",
    "| Slicing                             |                  x[index:index]                  |\n",
    "| Subscription                        |                     x[index]                     |\n",
    "| Attribute reference                 |                    x.attribute                   |\n",
    "| Exponentiation                      |                        **                        |\n",
    "| Bitwise not                         |                        ~x                        |\n",
    "| Positive, negative                  |                      +x, -x                      |\n",
    "| Multiplication, division, remainder |                      *, / ,%                     |\n",
    "| Addition, subtraction               |                       +, -                       |\n",
    "| Bitwise shifts                      |                      <<, >>                      |\n",
    "| Bitwise AND                         |                         &                        |\n",
    "| Bitwise XOR                         |                         ^                        |\n",
    "| Bitwise OR                          |                        \\|                        |\n",
    "| Comparisons, membership, identity   | in, not in, is, is not, <, <=, >, >=, <>, !=, == |\n",
    "| Boolean NOT                         |                       not x                      |\n",
    "| Boolean AND                         |                        and                       |\n",
    "| Boolean OR                          |                        or                        |\n",
    "| Lambda expression                   |                      lambda                      |"
   ]
  },
  {
   "cell_type": "markdown",
   "id": "96242fab",
   "metadata": {},
   "source": [
    "# 6 Variables in Python are just names"
   ]
  },
  {
   "cell_type": "markdown",
   "id": "76feb797",
   "metadata": {},
   "source": [
    "## 6.1 The Problem"
   ]
  },
  {
   "cell_type": "code",
   "execution_count": 11,
   "id": "d6d2b275",
   "metadata": {},
   "outputs": [
    {
     "name": "stdout",
     "output_type": "stream",
     "text": [
      "x: [1, 2, 3], y: [1, 2, 3]\n"
     ]
    }
   ],
   "source": [
    "x = [1, 2]\n",
    "y = x\n",
    "y.append(3) #adding int 3 to the list of [1,2] which is x, saved as variable y\n",
    "            #changes occur in both variables\n",
    "\n",
    "print(f\"x: {x}, y: {y}\")"
   ]
  },
  {
   "cell_type": "markdown",
   "id": "56779c3f",
   "metadata": {},
   "source": [
    "## 6.2 An explanation"
   ]
  },
  {
   "cell_type": "code",
   "execution_count": 13,
   "id": "30b3597f",
   "metadata": {},
   "outputs": [
    {
     "name": "stdout",
     "output_type": "stream",
     "text": [
      "x: 140714629239592, y: 140714629239592, 1: 140714629239592\n"
     ]
    }
   ],
   "source": [
    "'''CODE 1'''\n",
    "\n",
    "x = 1\n",
    "y = 1\n",
    "\n",
    "print(f\"x: {id(x)}, y: {id(y)}, 1: {id(1)}\")"
   ]
  },
  {
   "cell_type": "markdown",
   "id": "23f600d5",
   "metadata": {},
   "source": [
    "Before the code is run, Python has things or objects 1, 2 and a that have three properties type, value and id. For example, 1 can have the value 1, type int, and some id. a can have the value ‘a’, type str and some id.\n",
    "\n",
    "After the code is run, x and y are ‘looking at’ or bound to 1. So x and y are referred to as names that are bound to 11."
   ]
  },
  {
   "cell_type": "code",
   "execution_count": 14,
   "id": "c3771955",
   "metadata": {},
   "outputs": [
    {
     "name": "stdout",
     "output_type": "stream",
     "text": [
      "x: 140714629239592, y: 140714629239624\n"
     ]
    }
   ],
   "source": [
    "'''CODE 2'''\n",
    "x = 1\n",
    "y = x + 1\n",
    "\n",
    "print(f\"x: {id(x)}, y: {id(y)}\")"
   ]
  },
  {
   "cell_type": "code",
   "execution_count": 15,
   "id": "79ae6bae",
   "metadata": {},
   "outputs": [
    {
     "name": "stdout",
     "output_type": "stream",
     "text": [
      "1: 140714629239592, 2: 140714629239624\n"
     ]
    }
   ],
   "source": [
    "print(f\"1: {id(1)}, 2: {id(2)}\")"
   ]
  },
  {
   "cell_type": "code",
   "execution_count": 18,
   "id": "679a8466",
   "metadata": {},
   "outputs": [],
   "source": [
    "# Earlier problem code:\n",
    "# x is bound to a list object with a value [1 ,2]\n",
    "x = [1, 2]\n",
    "\n",
    "# y is bound to the SAME list object with a value [1 ,2]\n",
    "y = x\n",
    "\n",
    "# y is used to change the value of the object from  [1, 2] to [1, 2, 3]\n",
    "y.append(3)"
   ]
  },
  {
   "cell_type": "markdown",
   "id": "8421172c",
   "metadata": {},
   "source": [
    "## 6.3 A solution"
   ]
  },
  {
   "cell_type": "code",
   "execution_count": 20,
   "id": "2fd018a9",
   "metadata": {},
   "outputs": [],
   "source": [
    "y = x.copy() #y is now independent of x"
   ]
  },
  {
   "cell_type": "markdown",
   "id": "c5cee791",
   "metadata": {},
   "source": [
    "# 7 == is not the same as is"
   ]
  },
  {
   "cell_type": "markdown",
   "id": "d367abe1",
   "metadata": {},
   "source": [
    "Python has several ways of comparing ‘items’. == and is are two examples. Here is the difference between them:\n",
    "\n",
    "x is y checks for identity. i. e., it asks if x and y are bound to the same object by comparing the **ID**.\n",
    "\n",
    "x == y checks for equality by running a function that checks for equality (such as _eq_ of a class). You will understand more of this as we develop the idea of classes in later chapters. (checks for **value**)"
   ]
  },
  {
   "cell_type": "markdown",
   "id": "41d86047",
   "metadata": {},
   "source": [
    "## Footnotes"
   ]
  }
 ],
 "metadata": {
  "kernelspec": {
   "display_name": "Python 3 (ipykernel)",
   "language": "python",
   "name": "python3"
  },
  "language_info": {
   "codemirror_mode": {
    "name": "ipython",
    "version": 3
   },
   "file_extension": ".py",
   "mimetype": "text/x-python",
   "name": "python",
   "nbconvert_exporter": "python",
   "pygments_lexer": "ipython3",
   "version": "3.11.5"
  },
  "toc": {
   "base_numbering": 1,
   "nav_menu": {},
   "number_sections": true,
   "sideBar": true,
   "skip_h1_title": false,
   "title_cell": "Table of Contents",
   "title_sidebar": "Contents",
   "toc_cell": false,
   "toc_position": {},
   "toc_section_display": true,
   "toc_window_display": false
  },
  "vscode": {
   "interpreter": {
    "hash": "31f2aee4e71d21fbe5cf8b01ff0e069b9275f58929596ceb00d14d90e3e16cd6"
   }
  }
 },
 "nbformat": 4,
 "nbformat_minor": 5
}
