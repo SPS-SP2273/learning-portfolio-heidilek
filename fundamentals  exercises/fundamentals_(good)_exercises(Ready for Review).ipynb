{
 "cells": [
  {
   "cell_type": "markdown",
   "id": "123456",
   "metadata": {},
   "source": [
    "<div style=\"text-align:left;font-size:2em\"><span style=\"font-weight:bolder;font-size:1.25em\">SP2273 | Learning Portfolio</span><br><br><span style=\"font-weight:bold;color:darkred\">Fundamentals (Good) Exercises</span></div>"
   ]
  },
  {
   "cell_type": "markdown",
   "id": "4db932d8",
   "metadata": {},
   "source": [
    "## Exercise 1"
   ]
  },
  {
   "cell_type": "code",
   "execution_count": 1,
   "id": "37fb87f0",
   "metadata": {},
   "outputs": [
    {
     "name": "stdout",
     "output_type": "stream",
     "text": [
      "Give me a number?420\n",
      "You entered 420\n"
     ]
    }
   ],
   "source": [
    "user_input = input('Give me a number?')\n",
    "print('You entered', user_input)"
   ]
  },
  {
   "cell_type": "markdown",
   "id": "8ba58359",
   "metadata": {},
   "source": [
    "Write a Python program that takes a numerical grade (0-100) as input and outputs the corresponding letter grade based on the following criteria:\n",
    "\n",
    "| Grade | Score Range |\n",
    "|-------|-------------|\n",
    "| A     | 70-100      |\n",
    "| B     | 50-69       |\n",
    "| C     | 35-49       |\n",
    "| Fail  | 0-34        |"
   ]
  },
  {
   "cell_type": "code",
   "execution_count": 11,
   "id": "170010f6",
   "metadata": {},
   "outputs": [
    {
     "name": "stdout",
     "output_type": "stream",
     "text": [
      "Enter the student's score: 0\n",
      "The student's letter grade is: Fail\n"
     ]
    }
   ],
   "source": [
    "def main():\n",
    "    try:\n",
    "        score = int(input(\"Enter the student's score: \"))\n",
    "        student_grade = grade(score)\n",
    "        print(f\"The student's letter grade is: {student_grade}\")\n",
    "        \n",
    "    except ValueError:\n",
    "        print(\"Incorrect input.\")\n",
    "    \n",
    "def grade(score):\n",
    "    \n",
    "    if 70<=score<=100:\n",
    "        return \"A\"\n",
    "    elif 50<=score<=69:\n",
    "        return \"B\"\n",
    "    elif 35<=score<=49:\n",
    "        return \"C\"\n",
    "    elif 0<=score<=34:\n",
    "        return \"Fail\"\n",
    "    else:\n",
    "        raise ValueError\n",
    "        \n",
    "if __name__ == \"__main__\":\n",
    "    main()"
   ]
  }
 ],
 "metadata": {
  "kernelspec": {
   "display_name": "Python 3 (ipykernel)",
   "language": "python",
   "name": "python3"
  },
  "language_info": {
   "codemirror_mode": {
    "name": "ipython",
    "version": 3
   },
   "file_extension": ".py",
   "mimetype": "text/x-python",
   "name": "python",
   "nbconvert_exporter": "python",
   "pygments_lexer": "ipython3",
   "version": "3.11.5"
  },
  "toc": {
   "base_numbering": 1,
   "nav_menu": {},
   "number_sections": true,
   "sideBar": true,
   "skip_h1_title": false,
   "title_cell": "Table of Contents",
   "title_sidebar": "Contents",
   "toc_cell": false,
   "toc_position": {},
   "toc_section_display": true,
   "toc_window_display": false
  },
  "vscode": {
   "interpreter": {
    "hash": "31f2aee4e71d21fbe5cf8b01ff0e069b9275f58929596ceb00d14d90e3e16cd6"
   }
  }
 },
 "nbformat": 4,
 "nbformat_minor": 5
}
