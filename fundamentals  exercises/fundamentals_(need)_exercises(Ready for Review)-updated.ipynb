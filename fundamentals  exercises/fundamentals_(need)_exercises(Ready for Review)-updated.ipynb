{
 "cells": [
  {
   "cell_type": "markdown",
   "id": "123456",
   "metadata": {},
   "source": [
    "<div style=\"text-align:left;font-size:2em\"><span style=\"font-weight:bolder;font-size:1.25em\">SP2273 | Learning Portfolio</span><br><br><span style=\"font-weight:bold;color:darkred\">Fundamentals (Need) Exercises</span></div>"
   ]
  },
  {
   "cell_type": "markdown",
   "id": "4251b445",
   "metadata": {},
   "source": [
    "## Exercise 1\n",
    "### Functions used:\n",
    "1. print()\n",
    "2. sqrt() (np and math)\n",
    "3. split()\n",
    "4. type()\n",
    "5. str()\n",
    "6. float()\n",
    "7. complex()\n",
    "8. int()"
   ]
  },
  {
   "cell_type": "markdown",
   "id": "9c4438c3",
   "metadata": {},
   "source": [
    "## Exercise 2"
   ]
  },
  {
   "cell_type": "markdown",
   "id": "2072740b",
   "metadata": {},
   "source": [
    "### Initial Code"
   ]
  },
  {
   "cell_type": "code",
   "execution_count": 2,
   "id": "bc165ffb",
   "metadata": {},
   "outputs": [
    {
     "ename": "IndentationError",
     "evalue": "unindent does not match any outer indentation level (<tokenize>, line 3)",
     "output_type": "error",
     "traceback": [
      "\u001b[1;36m  File \u001b[1;32m<tokenize>:3\u001b[1;36m\u001b[0m\n\u001b[1;33m    Print(x, y, z)\u001b[0m\n\u001b[1;37m    ^\u001b[0m\n\u001b[1;31mIndentationError\u001b[0m\u001b[1;31m:\u001b[0m unindent does not match any outer indentation level\n"
     ]
    }
   ],
   "source": [
    "x, y = 3, 4\n",
    "        z = sqrt(x*2 + y**2)\n",
    "    Print(x, y, z)"
   ]
  },
  {
   "cell_type": "markdown",
   "id": "e90c3990",
   "metadata": {},
   "source": [
    "### Debugged Code"
   ]
  },
  {
   "cell_type": "code",
   "execution_count": 9,
   "id": "bf9ae6b8",
   "metadata": {},
   "outputs": [
    {
     "name": "stdout",
     "output_type": "stream",
     "text": [
      "3,4,5\n"
     ]
    }
   ],
   "source": [
    "from math import sqrt\n",
    "x, y = 3, 4\n",
    "z = sqrt(x*2 + y**2)\n",
    "print(x, y, round(z), sep=\",\")"
   ]
  },
  {
   "cell_type": "markdown",
   "id": "dfa7d040",
   "metadata": {},
   "source": [
    "## Exercise 3\n",
    "| #  | Term         | Description                                                                                                                                                                                                                             |\n",
    "|----|--------------|-----------------------------------------------------------------------------------------------------------------------------------------------------------------------------------------------------------------------------------------|\n",
    "| 1  | Function     | A function processes an input argument (a string, integer, float, etc) and produces an output  that is altered from the input.  e.g. print(9) 9                                                                                         |\n",
    "| 2  | Arguments    | An argument is a string, integer, float, etc that is processed by a function as an input to  give a desired output.                                                                                                                     |\n",
    "| 3  | Comments     | Comments are notes the programmer writes as they code to remind themselves or other users of the programme about the purpose of certain functions or lines of code, and what they do.                                                   |\n",
    "| 4  | Indentations | Indentations indicate the hierarchy of the functions within the programme, and which lines of code belong to which function, conditional, loop, etc.  e.g.  def main():     print(\"Hello World\")  def bye():     print(\"Goodbye World\") |\n",
    "| 5  | Packages     | Packages contain modules which contain functions made by other people that we can use in our own code.                                                                                                                                  |\n",
    "| 6  | .            | . denotes that the function belongs to an argument.                                                                                                                                                                                     |\n",
    "| 7  | :            | : is a part of indentation to indicate the end of the definition, conditional and loop.                                                                                                                                                 |\n",
    "| 8  | []           | [] denotes a list to store data.                                                                                                                                                                                                        |\n",
    "| 9  | [[[]]]       | [[[]]] could be multiple lists contained in a list.                                                                                                                                                                                     |\n",
    "| 10 | {}           | {} denotes a dictionary to store data as corresponding keys and values.                                                                                                                                                                 |"
   ]
  },
  {
   "cell_type": "markdown",
   "id": "a7274be1",
   "metadata": {},
   "source": [
    "## Exercise 4"
   ]
  },
  {
   "cell_type": "code",
   "execution_count": 6,
   "id": "15d20549",
   "metadata": {},
   "outputs": [
    {
     "data": {
      "text/plain": [
       "2.5"
      ]
     },
     "execution_count": 6,
     "metadata": {},
     "output_type": "execute_result"
    }
   ],
   "source": [
    "5/2           # Divides 5 by 2, producing a float value of 2.5"
   ]
  },
  {
   "cell_type": "code",
   "execution_count": 7,
   "id": "59458e8b",
   "metadata": {},
   "outputs": [
    {
     "data": {
      "text/plain": [
       "2"
      ]
     },
     "execution_count": 7,
     "metadata": {},
     "output_type": "execute_result"
    }
   ],
   "source": [
    "5//2          # Divides 5 by 2, producing an integer value of 2 (the quotient value)"
   ]
  },
  {
   "cell_type": "code",
   "execution_count": 8,
   "id": "54a32dc1",
   "metadata": {},
   "outputs": [
    {
     "data": {
      "text/plain": [
       "1"
      ]
     },
     "execution_count": 8,
     "metadata": {},
     "output_type": "execute_result"
    }
   ],
   "source": [
    "5%2           # Divides 5 by 2, producing the integer remainder of the division, 1."
   ]
  }
 ],
 "metadata": {
  "kernelspec": {
   "display_name": "Python 3 (ipykernel)",
   "language": "python",
   "name": "python3"
  },
  "language_info": {
   "codemirror_mode": {
    "name": "ipython",
    "version": 3
   },
   "file_extension": ".py",
   "mimetype": "text/x-python",
   "name": "python",
   "nbconvert_exporter": "python",
   "pygments_lexer": "ipython3",
   "version": "3.11.5"
  },
  "toc": {
   "base_numbering": 1,
   "nav_menu": {},
   "number_sections": true,
   "sideBar": true,
   "skip_h1_title": false,
   "title_cell": "Table of Contents",
   "title_sidebar": "Contents",
   "toc_cell": false,
   "toc_position": {},
   "toc_section_display": true,
   "toc_window_display": false
  },
  "vscode": {
   "interpreter": {
    "hash": "31f2aee4e71d21fbe5cf8b01ff0e069b9275f58929596ceb00d14d90e3e16cd6"
   }
  }
 },
 "nbformat": 4,
 "nbformat_minor": 5
}
