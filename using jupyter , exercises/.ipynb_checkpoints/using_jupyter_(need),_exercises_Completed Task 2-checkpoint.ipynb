{
 "cells": [
  {
   "cell_type": "markdown",
   "id": "bdd4011e",
   "metadata": {},
   "source": [
    "<div style=\"text-align:left;font-size:2em\"><span style=\"font-weight:bolder;font-size:1.25em\">SP2273 | Learning Portfolio</span><br><br><span style=\"font-weight:bold;color:darkred\">Using Jupyter (Need), Exercises</span></div>"
   ]
  },
  {
   "cell_type": "markdown",
   "id": "a652bb18",
   "metadata": {},
   "source": [
    "1. What is a Git **repository**?\n",
    " It is a folder to store and track all of the changes to the files it contains.\n",
    "\n",
    "2. Git keeps tracks of *changes* in the files in our repository.\n",
    "\n",
    "3. What is a **commit**?\n",
    " Commit saves the changes made in repository files to the history of the repository in GitHub.\n",
    "\n",
    "4. What is a **push**?\n",
    " Push moves the changes from the local clone repository files to the main repository files in the cloud.\n",
    "\n",
    "5. What is a **pull**?\n",
    " Pull moves the changes from the repository files in the cloud to the local repository file.\n",
    "\n",
    "6. What is the difference between **GitHub** and **GitHub Desktop**?\n",
    " GitHub can edit and manage files in the cloud repository, but GitHub Desktop helps to coordinate changes between GitHub and external editors"
   ]
  }
 ],
 "metadata": {
  "kernelspec": {
   "display_name": "Python 3 (ipykernel)",
   "language": "python",
   "name": "python3"
  },
  "language_info": {
   "codemirror_mode": {
    "name": "ipython",
    "version": 3
   },
   "file_extension": ".py",
   "mimetype": "text/x-python",
   "name": "python",
   "nbconvert_exporter": "python",
   "pygments_lexer": "ipython3",
   "version": "3.11.5"
  }
 },
 "nbformat": 4,
 "nbformat_minor": 5
}
