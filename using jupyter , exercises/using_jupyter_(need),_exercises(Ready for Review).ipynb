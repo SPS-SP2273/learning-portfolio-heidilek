{
 "cells": [
  {
   "cell_type": "markdown",
   "id": "123456",
   "metadata": {},
   "source": [
    "<div style=\"text-align:left;font-size:2em\"><span style=\"font-weight:bolder;font-size:1.25em\">SP2273 | Learning Portfolio</span><br><br><span style=\"font-weight:bold;color:darkred\">Using Jupyter (Need), Exercises</span></div>"
   ]
  },
  {
   "cell_type": "markdown",
   "id": "3f11e2f8",
   "metadata": {},
   "source": [
    "## Exercise 1\n",
    "### Quadratic Equations"
   ]
  },
  {
   "cell_type": "markdown",
   "id": "e4bc410d",
   "metadata": {},
   "source": [
    "### Introduction"
   ]
  },
  {
   "cell_type": "markdown",
   "id": "ed0dc403",
   "metadata": {},
   "source": [
    "![](https://upload.wikimedia.org/wikipedia/commons/thumb/f/f8/Polynomialdeg2.svg/600px-Polynomialdeg2.svg.png)\n",
    "\n",
    "(*Image from the [Wikipedia page on Quadratic equations](https://en.wikipedia.org/wiki/Quadratic_equation)*)\n",
    "\n",
    "The general form of a quadratic equation is:\n",
    "$$\n",
    "ax^{2}+bx+c=0\n",
    "$$"
   ]
  },
  {
   "cell_type": "markdown",
   "id": "caf5f467",
   "metadata": {},
   "source": [
    "### Solutions"
   ]
  },
  {
   "cell_type": "markdown",
   "id": "ff4f7777",
   "metadata": {},
   "source": [
    "Provided $a\\ne0$, we can use an elementary algebraic method called [completing the square](https://en.wikipedia.org/wiki/Completing_the_square) to show that a quadratic equation has the following solution:\n",
    "$$\n",
    "x = \\dfrac{-b \\pm \\sqrt{b^2-4ac}}{2a}\n",
    "$$"
   ]
  },
  {
   "cell_type": "markdown",
   "id": "b2428458",
   "metadata": {},
   "source": [
    "### Discriminant"
   ]
  },
  {
   "cell_type": "markdown",
   "id": "710054fa",
   "metadata": {},
   "source": [
    "The quantity $\\Delta=b^{2}-4ac$ is called the **discriminant** of the equation and decides the nature of its solutions. The table below shows the various possibilities.\n",
    "\n",
    "| Discriminant         | Roots                                |\n",
    "|:---------------------|-------------------------------------:|\n",
    "| $\\Delta=b^{2}-4ac=0$ | A single solution of $-b/(2a)$       |\n",
    "| $\\Delta=b^{2}-4ac>0$ | Two distinct solutions               |\n",
    "| $\\Delta=b^{2}-4ac<0$ | No real solutions; both are complex. |\n"
   ]
  },
  {
   "cell_type": "markdown",
   "id": "39cab8bb",
   "metadata": {},
   "source": [
    "## Exercise 2"
   ]
  },
  {
   "cell_type": "markdown",
   "id": "a8867953",
   "metadata": {},
   "source": [
    "1. What is a Git **repository**?\n",
    "It is a folder to store and track all of the changes to the files it contains.\n",
    "2. Git keeps tracks of changes in the files in our repository.\n",
    "3. What is a **commit**?\n",
    "Commit saves the changes made in repository files to the history of the repository in GitHub.\n",
    "4. What is a **push**?\n",
    "Push moves the changes from the local clone repository files to the main repository files in the cloud.\n",
    "5. What is a **pull**?\n",
    "Pull moves the changes from the repository files in the cloud to the local repository file.\n",
    "6. What is the difference between **GitHub** and **GitHub Desktop**?\n",
    "GitHub can edit and manage files in the cloud repository, but GitHub Desktop helps to coordinate changes between GitHub and external editors"
   ]
  }
 ],
 "metadata": {
  "kernelspec": {
   "display_name": "Python 3 (ipykernel)",
   "language": "python",
   "name": "python3"
  },
  "language_info": {
   "codemirror_mode": {
    "name": "ipython",
    "version": 3
   },
   "file_extension": ".py",
   "mimetype": "text/x-python",
   "name": "python",
   "nbconvert_exporter": "python",
   "pygments_lexer": "ipython3",
   "version": "3.11.5"
  },
  "toc": {
   "base_numbering": 1,
   "nav_menu": {},
   "number_sections": true,
   "sideBar": true,
   "skip_h1_title": false,
   "title_cell": "Table of Contents",
   "title_sidebar": "Contents",
   "toc_cell": false,
   "toc_position": {},
   "toc_section_display": true,
   "toc_window_display": false
  },
  "vscode": {
   "interpreter": {
    "hash": "31f2aee4e71d21fbe5cf8b01ff0e069b9275f58929596ceb00d14d90e3e16cd6"
   }
  }
 },
 "nbformat": 4,
 "nbformat_minor": 5
}
