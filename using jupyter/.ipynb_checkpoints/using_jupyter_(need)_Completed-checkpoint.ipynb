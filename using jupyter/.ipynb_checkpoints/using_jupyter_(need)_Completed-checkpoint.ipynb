{
 "cells": [
  {
   "cell_type": "markdown",
   "id": "123456",
   "metadata": {},
   "source": [
    "<div style=\"text-align:left;font-size:2em\"><span style=\"font-weight:bolder;font-size:1.25em\">SP2273 | Learning Portfolio</span><br><br><span style=\"font-weight:bold;color:darkred\">Using Jupyter (Need)</span></div>"
   ]
  },
  {
   "cell_type": "markdown",
   "id": "9ea28211",
   "metadata": {},
   "source": [
    "# 1 What to expect in this chapter"
   ]
  },
  {
   "cell_type": "markdown",
   "id": "343bd93f",
   "metadata": {},
   "source": [
    "# 2 Getting ready"
   ]
  },
  {
   "cell_type": "markdown",
   "id": "ce7b3342",
   "metadata": {},
   "source": [
    "# 3 Getting started with Jupyter"
   ]
  },
  {
   "cell_type": "markdown",
   "id": "5cfd5781",
   "metadata": {},
   "source": [
    "## 3.1 It is all about running cells"
   ]
  },
  {
   "cell_type": "markdown",
   "id": "9129355f",
   "metadata": {},
   "source": [
    "## 3.2 A traditional start"
   ]
  },
  {
   "cell_type": "markdown",
   "id": "660e2f43",
   "metadata": {},
   "source": [
    "# 4 All about Markdown\n",
    "\n",
    "The ships hung in the sky in much the same way that bricks don't\n",
    "\n",
    "The *ships* hung in the sky</s> in much the same way that bricks dont"
   ]
  },
  {
   "cell_type": "markdown",
   "id": "723537d1",
   "metadata": {},
   "source": [
    "## 4.1 Rendering Markdown cells"
   ]
  },
  {
   "cell_type": "markdown",
   "id": "61971753",
   "metadata": {},
   "source": [
    "## 4.2 Some basic syntax"
   ]
  },
  {
   "cell_type": "markdown",
   "id": "44dc8bab",
   "metadata": {},
   "source": [
    "## 4.3 Headings\n",
    "\n",
    "\n",
    "# Top\n",
    "## lower\n",
    "### lowerer\n",
    "#### lowerest"
   ]
  },
  {
   "cell_type": "markdown",
   "id": "88a4f11a",
   "metadata": {},
   "source": [
    "## 4.4 Displaying Code\n",
    "\n",
    "```python\n",
    "print(\"Hello World!\")\n",
    "```"
   ]
  },
  {
   "cell_type": "markdown",
   "id": "40ad1526",
   "metadata": {},
   "source": [
    "## 4.5 Links\n",
    "[NUS Website](https://smu.edu.sg)"
   ]
  },
  {
   "cell_type": "markdown",
   "id": "6ca6dcbc",
   "metadata": {},
   "source": [
    "## 4.6 Images\n",
    "\n",
    "![](https://nus.edu.sg/images/default-source/base/logo.png)"
   ]
  },
  {
   "cell_type": "markdown",
   "id": "a3466a88",
   "metadata": {},
   "source": [
    "## 4.7 Tables\n",
    "\n",
    "| NUS | NTU | SMU |\n",
    "|:----|:---:|----:|\n",
    "|near | far |nearer|"
   ]
  },
  {
   "cell_type": "markdown",
   "id": "1531d841",
   "metadata": {},
   "source": [
    "## 4.8 Lists\n",
    "\n",
    "1. nus\n",
    "    1. near\n",
    "    2. my school\n",
    "2. ntu\n",
    "    - far\n",
    "3. smu\n",
    "    - nearer"
   ]
  },
  {
   "cell_type": "markdown",
   "id": "913da46e",
   "metadata": {},
   "source": [
    "## 4.9 Equations\n",
    "this is an integral $\\int_{x=1}^{x=\\infty} f(x)dx$"
   ]
  },
  {
   "cell_type": "markdown",
   "id": "54942cd8",
   "metadata": {},
   "source": [
    "## Footnotes "
   ]
  },
  {
   "cell_type": "markdown",
   "id": "85e11523",
   "metadata": {},
   "source": [
    "feet<sup>[[1]]\n",
    "\n",
    "[1]: foot"
   ]
  }
 ],
 "metadata": {
  "kernelspec": {
   "display_name": "Python 3 (ipykernel)",
   "language": "python",
   "name": "python3"
  },
  "language_info": {
   "codemirror_mode": {
    "name": "ipython",
    "version": 3
   },
   "file_extension": ".py",
   "mimetype": "text/x-python",
   "name": "python",
   "nbconvert_exporter": "python",
   "pygments_lexer": "ipython3",
   "version": "3.11.5"
  },
  "toc": {
   "base_numbering": 1,
   "nav_menu": {},
   "number_sections": true,
   "sideBar": true,
   "skip_h1_title": false,
   "title_cell": "Table of Contents",
   "title_sidebar": "Contents",
   "toc_cell": false,
   "toc_position": {},
   "toc_section_display": true,
   "toc_window_display": false
  },
  "vscode": {
   "interpreter": {
    "hash": "31f2aee4e71d21fbe5cf8b01ff0e069b9275f58929596ceb00d14d90e3e16cd6"
   }
  }
 },
 "nbformat": 4,
 "nbformat_minor": 5
}
