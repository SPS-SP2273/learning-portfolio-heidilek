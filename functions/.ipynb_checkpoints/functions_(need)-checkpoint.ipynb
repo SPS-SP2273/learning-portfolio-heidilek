{
 "cells": [
  {
   "cell_type": "markdown",
   "id": "123456",
   "metadata": {},
   "source": [
    "<div style=\"text-align:left;font-size:2em\"><span style=\"font-weight:bolder;font-size:1.25em\">SP2273 | Learning Portfolio</span><br><br><span style=\"font-weight:bold;color:darkred\">Functions (Need)</span></div>"
   ]
  },
  {
   "cell_type": "markdown",
   "id": "e3e71729",
   "metadata": {},
   "source": [
    "# What to expect in this chapter"
   ]
  },
  {
   "cell_type": "markdown",
   "id": "0243ed08",
   "metadata": {},
   "source": [
    "# 1 User-defined functions"
   ]
  },
  {
   "cell_type": "markdown",
   "id": "44b555b1",
   "metadata": {},
   "source": [
    "## 1.1 Named Functions"
   ]
  },
  {
   "cell_type": "markdown",
   "id": "7963929a",
   "metadata": {},
   "source": [
    "### Named functions that return"
   ]
  },
  {
   "cell_type": "code",
   "execution_count": 1,
   "id": "8b956944",
   "metadata": {},
   "outputs": [
    {
     "data": {
      "text/plain": [
       "'Hello Super Man!'"
      ]
     },
     "execution_count": 1,
     "metadata": {},
     "output_type": "execute_result"
    }
   ],
   "source": [
    "def greeting(name):\n",
    "    if name == 'Batman':\n",
    "        return 'Hello Batman! So, nice to meet you!'\n",
    "    else:\n",
    "        return f'Hello {name}!'\n",
    "\n",
    "greeting(\"Super Man\")"
   ]
  },
  {
   "cell_type": "markdown",
   "id": "8c330469",
   "metadata": {},
   "source": [
    "### Named functions that don’t return"
   ]
  },
  {
   "cell_type": "code",
   "execution_count": 4,
   "id": "8a8572d2",
   "metadata": {},
   "outputs": [
    {
     "name": "stdout",
     "output_type": "stream",
     "text": [
      "Hello World\n",
      "None\n"
     ]
    }
   ],
   "source": [
    "def f(n):\n",
    "    print(\"Hello World\")\n",
    "\n",
    "print(f(3)) # As f(n) calls the print function for \"Hello World\", that statement is printed\n",
    "            # However, None is also printed because f(n) doesn't return anything"
   ]
  },
  {
   "cell_type": "markdown",
   "id": "00bc3e05",
   "metadata": {},
   "source": [
    "## 1.2 Anonymous functions"
   ]
  },
  {
   "cell_type": "code",
   "execution_count": 5,
   "id": "4aee9d50",
   "metadata": {},
   "outputs": [
    {
     "data": {
      "text/plain": [
       "'Hello Super Man!'"
      ]
     },
     "execution_count": 5,
     "metadata": {},
     "output_type": "execute_result"
    }
   ],
   "source": [
    "my_short_function = lambda name: f\"Hello {name}!\"\n",
    "my_short_function(name=\"Super Man\")"
   ]
  },
  {
   "cell_type": "code",
   "execution_count": 6,
   "id": "6b97554d",
   "metadata": {},
   "outputs": [
    {
     "data": {
      "text/plain": [
       "[[0, 9, -19],\n",
       " [1, 8, -18],\n",
       " [2, 7, -17],\n",
       " [3, 6, -16],\n",
       " [4, 5, -15],\n",
       " [5, 4, -14],\n",
       " [6, 3, -13],\n",
       " [7, 2, -12],\n",
       " [8, 1, -11],\n",
       " [9, 0, -10]]"
      ]
     },
     "execution_count": 6,
     "metadata": {},
     "output_type": "execute_result"
    }
   ],
   "source": [
    "numbers=[[9, 0, -10],\n",
    "         [8, 1, -11],\n",
    "         [7, 2, -12],\n",
    "         [6, 3, -13],\n",
    "         [5, 4, -14],\n",
    "         [4, 5, -15],\n",
    "         [3, 6, -16],\n",
    "         [2, 7, -17],\n",
    "         [1, 8, -18],\n",
    "         [0, 9, -19]]\n",
    "\n",
    "# Sort by comparing the default key\n",
    "# (i.e., the 1st element)\n",
    "sorted(numbers)"
   ]
  },
  {
   "cell_type": "code",
   "execution_count": 8,
   "id": "b5b4fe4e",
   "metadata": {},
   "outputs": [
    {
     "data": {
      "text/plain": [
       "[[0, 9, -19],\n",
       " [1, 8, -18],\n",
       " [2, 7, -17],\n",
       " [3, 6, -16],\n",
       " [4, 5, -15],\n",
       " [5, 4, -14],\n",
       " [6, 3, -13],\n",
       " [7, 2, -12],\n",
       " [8, 1, -11],\n",
       " [9, 0, -10]]"
      ]
     },
     "execution_count": 8,
     "metadata": {},
     "output_type": "execute_result"
    }
   ],
   "source": [
    "numbers=[[9, 0, -10],\n",
    "         [8, 1, -11],\n",
    "         [7, 2, -12],\n",
    "         [6, 3, -13],\n",
    "         [5, 4, -14],\n",
    "         [4, 5, -15],\n",
    "         [3, 6, -16],\n",
    "         [2, 7, -17],\n",
    "         [1, 8, -18],\n",
    "         [0, 9, -19]]\n",
    "\n",
    "# Sort by comparing a custom key\n",
    "# that uses the sum of the elements.\n",
    "sorted(numbers, key=lambda x: sum(x))   "
   ]
  },
  {
   "cell_type": "markdown",
   "id": "cb29f31e",
   "metadata": {},
   "source": [
    "## 1.3 Optional arguments"
   ]
  },
  {
   "cell_type": "code",
   "execution_count": 10,
   "id": "07f0d438",
   "metadata": {},
   "outputs": [
    {
     "data": {
      "text/plain": [
       "'Hello no one!'"
      ]
     },
     "execution_count": 10,
     "metadata": {},
     "output_type": "execute_result"
    }
   ],
   "source": [
    "def greeting(name='no one'):\n",
    "    if name == 'Batman':\n",
    "        return 'Hello Batman! So, nice to meet you!'\n",
    "    else:\n",
    "        return f'Hello {name}!'\n",
    "\n",
    "greeting()"
   ]
  },
  {
   "cell_type": "code",
   "execution_count": 12,
   "id": "454b8c3c",
   "metadata": {},
   "outputs": [],
   "source": [
    "?print"
   ]
  },
  {
   "cell_type": "code",
   "execution_count": 11,
   "id": "8710ca38",
   "metadata": {},
   "outputs": [
    {
     "name": "stdout",
     "output_type": "stream",
     "text": [
      "I am Batman!\n",
      "I---am---Batman!\n"
     ]
    }
   ],
   "source": [
    "# Using default values\n",
    "print('I', 'am', 'Batman!')\n",
    "# Specifying an optional argument\n",
    "print('I', 'am', 'Batman!', sep='---')  "
   ]
  },
  {
   "cell_type": "markdown",
   "id": "d6409ef2",
   "metadata": {},
   "source": [
    "## 1.4 The importance of functions?"
   ]
  },
  {
   "cell_type": "markdown",
   "id": "76d6e1a4",
   "metadata": {},
   "source": [
    "### An argument for functions"
   ]
  },
  {
   "cell_type": "markdown",
   "id": "b09a1dc0",
   "metadata": {},
   "source": [
    "* remember functional abstraction (modular coding)\n",
    "* remember to REUSE your functions (not breaking functional abstraction)\n",
    "* functions make code more manageable"
   ]
  },
  {
   "cell_type": "markdown",
   "id": "87d627d8",
   "metadata": {},
   "source": [
    "### A word of caution"
   ]
  },
  {
   "cell_type": "markdown",
   "id": "fa7f0f9a",
   "metadata": {},
   "source": [
    "* don't take too many arguments in your function\n",
    "* don't do too many things within your function"
   ]
  }
 ],
 "metadata": {
  "kernelspec": {
   "display_name": "Python 3 (ipykernel)",
   "language": "python",
   "name": "python3"
  },
  "language_info": {
   "codemirror_mode": {
    "name": "ipython",
    "version": 3
   },
   "file_extension": ".py",
   "mimetype": "text/x-python",
   "name": "python",
   "nbconvert_exporter": "python",
   "pygments_lexer": "ipython3",
   "version": "3.11.5"
  },
  "toc": {
   "base_numbering": 1,
   "nav_menu": {},
   "number_sections": true,
   "sideBar": true,
   "skip_h1_title": false,
   "title_cell": "Table of Contents",
   "title_sidebar": "Contents",
   "toc_cell": false,
   "toc_position": {},
   "toc_section_display": true,
   "toc_window_display": false
  },
  "vscode": {
   "interpreter": {
    "hash": "31f2aee4e71d21fbe5cf8b01ff0e069b9275f58929596ceb00d14d90e3e16cd6"
   }
  }
 },
 "nbformat": 4,
 "nbformat_minor": 5
}
